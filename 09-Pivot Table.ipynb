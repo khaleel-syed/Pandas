{
 "cells": [
  {
   "cell_type": "markdown",
   "metadata": {},
   "source": [
    "# Pivot Tables"
   ]
  },
  {
   "cell_type": "code",
   "execution_count": 1,
   "metadata": {},
   "outputs": [],
   "source": [
    "import numpy as np\n",
    "import pandas as pd"
   ]
  },
  {
   "cell_type": "markdown",
   "metadata": {},
   "source": [
    "   **pd.pivot_table(data,values,index,columns,aggfunc)**"
   ]
  },
  {
   "cell_type": "markdown",
   "metadata": {},
   "source": [
    "Pandas provides a function ‘pivot_table’ to create MS-Excel spreadsheet style pivot tables.\n",
    "It can take following arguments:\n",
    "- data: DataFrame object,\n",
    "- values: column to aggregate,\n",
    "- index: row labels,\n",
    "- columns: column labels,\n",
    "- aggfunc: aggregation function to be used on values, default is NumPy.mean"
   ]
  },
  {
   "cell_type": "code",
   "execution_count": 2,
   "metadata": {},
   "outputs": [],
   "source": [
    "df = pd.read_excel('housesales.xlsx')"
   ]
  },
  {
   "cell_type": "code",
   "execution_count": 3,
   "metadata": {},
   "outputs": [
    {
     "data": {
      "text/html": [
       "<div>\n",
       "<style scoped>\n",
       "    .dataframe tbody tr th:only-of-type {\n",
       "        vertical-align: middle;\n",
       "    }\n",
       "\n",
       "    .dataframe tbody tr th {\n",
       "        vertical-align: top;\n",
       "    }\n",
       "\n",
       "    .dataframe thead th {\n",
       "        text-align: right;\n",
       "    }\n",
       "</style>\n",
       "<table border=\"1\" class=\"dataframe\">\n",
       "  <thead>\n",
       "    <tr style=\"text-align: right;\">\n",
       "      <th></th>\n",
       "      <th>sqft</th>\n",
       "      <th>hometype</th>\n",
       "      <th>beds</th>\n",
       "      <th>baths</th>\n",
       "      <th>lotsize</th>\n",
       "      <th>yearbulit</th>\n",
       "      <th>daysonmarket</th>\n",
       "      <th>parkingtype</th>\n",
       "      <th>zip</th>\n",
       "      <th>listprice</th>\n",
       "    </tr>\n",
       "  </thead>\n",
       "  <tbody>\n",
       "    <tr>\n",
       "      <th>0</th>\n",
       "      <td>3040</td>\n",
       "      <td>Single Family Residential</td>\n",
       "      <td>4</td>\n",
       "      <td>3</td>\n",
       "      <td>54886</td>\n",
       "      <td>1961</td>\n",
       "      <td>349</td>\n",
       "      <td>1</td>\n",
       "      <td>80303</td>\n",
       "      <td>895.0</td>\n",
       "    </tr>\n",
       "    <tr>\n",
       "      <th>1</th>\n",
       "      <td>2920</td>\n",
       "      <td>Single Family Residential</td>\n",
       "      <td>3</td>\n",
       "      <td>3</td>\n",
       "      <td>38754</td>\n",
       "      <td>1966</td>\n",
       "      <td>81</td>\n",
       "      <td>1</td>\n",
       "      <td>80303</td>\n",
       "      <td>659.0</td>\n",
       "    </tr>\n",
       "    <tr>\n",
       "      <th>2</th>\n",
       "      <td>3845</td>\n",
       "      <td>Single Family Residential</td>\n",
       "      <td>4</td>\n",
       "      <td>3</td>\n",
       "      <td>46609</td>\n",
       "      <td>2005</td>\n",
       "      <td>19</td>\n",
       "      <td>1</td>\n",
       "      <td>80303</td>\n",
       "      <td>1840.0</td>\n",
       "    </tr>\n",
       "    <tr>\n",
       "      <th>3</th>\n",
       "      <td>5588</td>\n",
       "      <td>Single Family Residential</td>\n",
       "      <td>4</td>\n",
       "      <td>5</td>\n",
       "      <td>223463</td>\n",
       "      <td>2008</td>\n",
       "      <td>116</td>\n",
       "      <td>1</td>\n",
       "      <td>80303</td>\n",
       "      <td>6499.0</td>\n",
       "    </tr>\n",
       "    <tr>\n",
       "      <th>4</th>\n",
       "      <td>3934</td>\n",
       "      <td>Single Family Residential</td>\n",
       "      <td>4</td>\n",
       "      <td>4</td>\n",
       "      <td>40864</td>\n",
       "      <td>2014</td>\n",
       "      <td>130</td>\n",
       "      <td>1</td>\n",
       "      <td>80305</td>\n",
       "      <td>1500.0</td>\n",
       "    </tr>\n",
       "  </tbody>\n",
       "</table>\n",
       "</div>"
      ],
      "text/plain": [
       "   sqft                   hometype  beds  baths  lotsize  yearbulit  \\\n",
       "0  3040  Single Family Residential     4      3    54886       1961   \n",
       "1  2920  Single Family Residential     3      3    38754       1966   \n",
       "2  3845  Single Family Residential     4      3    46609       2005   \n",
       "3  5588  Single Family Residential     4      5   223463       2008   \n",
       "4  3934  Single Family Residential     4      4    40864       2014   \n",
       "\n",
       "   daysonmarket  parkingtype    zip  listprice  \n",
       "0           349            1  80303      895.0  \n",
       "1            81            1  80303      659.0  \n",
       "2            19            1  80303     1840.0  \n",
       "3           116            1  80303     6499.0  \n",
       "4           130            1  80305     1500.0  "
      ]
     },
     "execution_count": 3,
     "metadata": {},
     "output_type": "execute_result"
    }
   ],
   "source": [
    "df.head()"
   ]
  },
  {
   "cell_type": "markdown",
   "metadata": {},
   "source": [
    "#### 1. Average List Price by Home Type"
   ]
  },
  {
   "cell_type": "code",
   "execution_count": 4,
   "metadata": {},
   "outputs": [
    {
     "data": {
      "text/plain": [
       "hometype\n",
       "Condo                         588.209946\n",
       "Single Family Residential    1313.724932\n",
       "Townhouse                     468.142857\n",
       "Name: listprice, dtype: float64"
      ]
     },
     "execution_count": 4,
     "metadata": {},
     "output_type": "execute_result"
    }
   ],
   "source": [
    "df.groupby(by='hometype')['listprice'].mean()"
   ]
  },
  {
   "cell_type": "code",
   "execution_count": 5,
   "metadata": {},
   "outputs": [
    {
     "data": {
      "text/html": [
       "<div>\n",
       "<style scoped>\n",
       "    .dataframe tbody tr th:only-of-type {\n",
       "        vertical-align: middle;\n",
       "    }\n",
       "\n",
       "    .dataframe tbody tr th {\n",
       "        vertical-align: top;\n",
       "    }\n",
       "\n",
       "    .dataframe thead th {\n",
       "        text-align: right;\n",
       "    }\n",
       "</style>\n",
       "<table border=\"1\" class=\"dataframe\">\n",
       "  <thead>\n",
       "    <tr style=\"text-align: right;\">\n",
       "      <th></th>\n",
       "      <th>listprice</th>\n",
       "    </tr>\n",
       "    <tr>\n",
       "      <th>hometype</th>\n",
       "      <th></th>\n",
       "    </tr>\n",
       "  </thead>\n",
       "  <tbody>\n",
       "    <tr>\n",
       "      <th>Condo</th>\n",
       "      <td>588.209946</td>\n",
       "    </tr>\n",
       "    <tr>\n",
       "      <th>Single Family Residential</th>\n",
       "      <td>1313.724932</td>\n",
       "    </tr>\n",
       "    <tr>\n",
       "      <th>Townhouse</th>\n",
       "      <td>468.142857</td>\n",
       "    </tr>\n",
       "  </tbody>\n",
       "</table>\n",
       "</div>"
      ],
      "text/plain": [
       "                             listprice\n",
       "hometype                              \n",
       "Condo                       588.209946\n",
       "Single Family Residential  1313.724932\n",
       "Townhouse                   468.142857"
      ]
     },
     "execution_count": 5,
     "metadata": {},
     "output_type": "execute_result"
    }
   ],
   "source": [
    "pd.pivot_table(data=df,\n",
    "              values='listprice',\n",
    "              index='hometype',\n",
    "              aggfunc='mean')"
   ]
  },
  {
   "cell_type": "code",
   "execution_count": 6,
   "metadata": {},
   "outputs": [
    {
     "data": {
      "text/html": [
       "<div>\n",
       "<style scoped>\n",
       "    .dataframe tbody tr th:only-of-type {\n",
       "        vertical-align: middle;\n",
       "    }\n",
       "\n",
       "    .dataframe tbody tr th {\n",
       "        vertical-align: top;\n",
       "    }\n",
       "\n",
       "    .dataframe thead th {\n",
       "        text-align: right;\n",
       "    }\n",
       "</style>\n",
       "<table border=\"1\" class=\"dataframe\">\n",
       "  <thead>\n",
       "    <tr style=\"text-align: right;\">\n",
       "      <th>hometype</th>\n",
       "      <th>Condo</th>\n",
       "      <th>Single Family Residential</th>\n",
       "      <th>Townhouse</th>\n",
       "    </tr>\n",
       "  </thead>\n",
       "  <tbody>\n",
       "    <tr>\n",
       "      <th>listprice</th>\n",
       "      <td>588.209946</td>\n",
       "      <td>1313.724932</td>\n",
       "      <td>468.142857</td>\n",
       "    </tr>\n",
       "  </tbody>\n",
       "</table>\n",
       "</div>"
      ],
      "text/plain": [
       "hometype        Condo  Single Family Residential   Townhouse\n",
       "listprice  588.209946                1313.724932  468.142857"
      ]
     },
     "execution_count": 6,
     "metadata": {},
     "output_type": "execute_result"
    }
   ],
   "source": [
    "pd.pivot_table(data=df,\n",
    "              values='listprice',\n",
    "              columns='hometype',\n",
    "              aggfunc='mean')"
   ]
  },
  {
   "cell_type": "code",
   "execution_count": null,
   "metadata": {},
   "outputs": [],
   "source": []
  },
  {
   "cell_type": "markdown",
   "metadata": {},
   "source": [
    "#### 2.Average List Price by Home type and Beds"
   ]
  },
  {
   "cell_type": "code",
   "execution_count": 7,
   "metadata": {},
   "outputs": [
    {
     "data": {
      "text/html": [
       "<div>\n",
       "<style scoped>\n",
       "    .dataframe tbody tr th:only-of-type {\n",
       "        vertical-align: middle;\n",
       "    }\n",
       "\n",
       "    .dataframe tbody tr th {\n",
       "        vertical-align: top;\n",
       "    }\n",
       "\n",
       "    .dataframe thead th {\n",
       "        text-align: right;\n",
       "    }\n",
       "</style>\n",
       "<table border=\"1\" class=\"dataframe\">\n",
       "  <thead>\n",
       "    <tr style=\"text-align: right;\">\n",
       "      <th>hometype</th>\n",
       "      <th>Condo</th>\n",
       "      <th>Single Family Residential</th>\n",
       "      <th>Townhouse</th>\n",
       "    </tr>\n",
       "    <tr>\n",
       "      <th>beds</th>\n",
       "      <th></th>\n",
       "      <th></th>\n",
       "      <th></th>\n",
       "    </tr>\n",
       "  </thead>\n",
       "  <tbody>\n",
       "    <tr>\n",
       "      <th>1</th>\n",
       "      <td>293.587867</td>\n",
       "      <td>NaN</td>\n",
       "      <td>NaN</td>\n",
       "    </tr>\n",
       "    <tr>\n",
       "      <th>2</th>\n",
       "      <td>752.761765</td>\n",
       "      <td>1173.214286</td>\n",
       "      <td>437.666667</td>\n",
       "    </tr>\n",
       "    <tr>\n",
       "      <th>3</th>\n",
       "      <td>1047.000000</td>\n",
       "      <td>949.532821</td>\n",
       "      <td>516.333333</td>\n",
       "    </tr>\n",
       "    <tr>\n",
       "      <th>4</th>\n",
       "      <td>375.000000</td>\n",
       "      <td>1359.138462</td>\n",
       "      <td>415.000000</td>\n",
       "    </tr>\n",
       "    <tr>\n",
       "      <th>5</th>\n",
       "      <td>NaN</td>\n",
       "      <td>1617.565278</td>\n",
       "      <td>NaN</td>\n",
       "    </tr>\n",
       "    <tr>\n",
       "      <th>6</th>\n",
       "      <td>NaN</td>\n",
       "      <td>1937.741667</td>\n",
       "      <td>NaN</td>\n",
       "    </tr>\n",
       "  </tbody>\n",
       "</table>\n",
       "</div>"
      ],
      "text/plain": [
       "hometype        Condo  Single Family Residential   Townhouse\n",
       "beds                                                        \n",
       "1          293.587867                        NaN         NaN\n",
       "2          752.761765                1173.214286  437.666667\n",
       "3         1047.000000                 949.532821  516.333333\n",
       "4          375.000000                1359.138462  415.000000\n",
       "5                 NaN                1617.565278         NaN\n",
       "6                 NaN                1937.741667         NaN"
      ]
     },
     "execution_count": 7,
     "metadata": {},
     "output_type": "execute_result"
    }
   ],
   "source": [
    "pd.pivot_table(data=df,\n",
    "              values='listprice',\n",
    "              index='beds',\n",
    "              columns='hometype')"
   ]
  },
  {
   "cell_type": "code",
   "execution_count": null,
   "metadata": {},
   "outputs": [],
   "source": []
  },
  {
   "cell_type": "markdown",
   "metadata": {},
   "source": [
    "#### 3.Average List Price by Home type and Parking Type"
   ]
  },
  {
   "cell_type": "code",
   "execution_count": 8,
   "metadata": {},
   "outputs": [
    {
     "data": {
      "text/html": [
       "<div>\n",
       "<style scoped>\n",
       "    .dataframe tbody tr th:only-of-type {\n",
       "        vertical-align: middle;\n",
       "    }\n",
       "\n",
       "    .dataframe tbody tr th {\n",
       "        vertical-align: top;\n",
       "    }\n",
       "\n",
       "    .dataframe thead th {\n",
       "        text-align: right;\n",
       "    }\n",
       "</style>\n",
       "<table border=\"1\" class=\"dataframe\">\n",
       "  <thead>\n",
       "    <tr style=\"text-align: right;\">\n",
       "      <th>parkingtype</th>\n",
       "      <th>0</th>\n",
       "      <th>1</th>\n",
       "    </tr>\n",
       "    <tr>\n",
       "      <th>hometype</th>\n",
       "      <th></th>\n",
       "      <th></th>\n",
       "    </tr>\n",
       "  </thead>\n",
       "  <tbody>\n",
       "    <tr>\n",
       "      <th>Condo</th>\n",
       "      <td>185.100000</td>\n",
       "      <td>637.071758</td>\n",
       "    </tr>\n",
       "    <tr>\n",
       "      <th>Single Family Residential</th>\n",
       "      <td>886.455556</td>\n",
       "      <td>1362.401190</td>\n",
       "    </tr>\n",
       "    <tr>\n",
       "      <th>Townhouse</th>\n",
       "      <td>NaN</td>\n",
       "      <td>468.142857</td>\n",
       "    </tr>\n",
       "  </tbody>\n",
       "</table>\n",
       "</div>"
      ],
      "text/plain": [
       "parkingtype                         0            1\n",
       "hometype                                          \n",
       "Condo                      185.100000   637.071758\n",
       "Single Family Residential  886.455556  1362.401190\n",
       "Townhouse                         NaN   468.142857"
      ]
     },
     "execution_count": 8,
     "metadata": {},
     "output_type": "execute_result"
    }
   ],
   "source": [
    "pd.pivot_table(df,values='listprice',index='hometype',columns='parkingtype')"
   ]
  },
  {
   "cell_type": "markdown",
   "metadata": {},
   "source": [
    "#### 4.Average List Price and Sqft by Home type"
   ]
  },
  {
   "cell_type": "code",
   "execution_count": 9,
   "metadata": {},
   "outputs": [
    {
     "data": {
      "text/html": [
       "<div>\n",
       "<style scoped>\n",
       "    .dataframe tbody tr th:only-of-type {\n",
       "        vertical-align: middle;\n",
       "    }\n",
       "\n",
       "    .dataframe tbody tr th {\n",
       "        vertical-align: top;\n",
       "    }\n",
       "\n",
       "    .dataframe thead th {\n",
       "        text-align: right;\n",
       "    }\n",
       "</style>\n",
       "<table border=\"1\" class=\"dataframe\">\n",
       "  <thead>\n",
       "    <tr style=\"text-align: right;\">\n",
       "      <th></th>\n",
       "      <th>listprice</th>\n",
       "      <th>sqft</th>\n",
       "    </tr>\n",
       "    <tr>\n",
       "      <th>hometype</th>\n",
       "      <th></th>\n",
       "      <th></th>\n",
       "    </tr>\n",
       "  </thead>\n",
       "  <tbody>\n",
       "    <tr>\n",
       "      <th>Condo</th>\n",
       "      <td>588.209946</td>\n",
       "      <td>1483.162162</td>\n",
       "    </tr>\n",
       "    <tr>\n",
       "      <th>Single Family Residential</th>\n",
       "      <td>1313.724932</td>\n",
       "      <td>3520.982955</td>\n",
       "    </tr>\n",
       "    <tr>\n",
       "      <th>Townhouse</th>\n",
       "      <td>468.142857</td>\n",
       "      <td>1579.571429</td>\n",
       "    </tr>\n",
       "  </tbody>\n",
       "</table>\n",
       "</div>"
      ],
      "text/plain": [
       "                             listprice         sqft\n",
       "hometype                                           \n",
       "Condo                       588.209946  1483.162162\n",
       "Single Family Residential  1313.724932  3520.982955\n",
       "Townhouse                   468.142857  1579.571429"
      ]
     },
     "execution_count": 9,
     "metadata": {},
     "output_type": "execute_result"
    }
   ],
   "source": [
    "pd.pivot_table(data=df,\n",
    "              values=['listprice','sqft'],index='hometype')"
   ]
  },
  {
   "cell_type": "code",
   "execution_count": null,
   "metadata": {},
   "outputs": [],
   "source": []
  },
  {
   "cell_type": "markdown",
   "metadata": {},
   "source": [
    "#### 5.Total of List Price by Zip and Home type and Parking Type"
   ]
  },
  {
   "cell_type": "code",
   "execution_count": 15,
   "metadata": {},
   "outputs": [
    {
     "data": {
      "text/html": [
       "<div>\n",
       "<style scoped>\n",
       "    .dataframe tbody tr th:only-of-type {\n",
       "        vertical-align: middle;\n",
       "    }\n",
       "\n",
       "    .dataframe tbody tr th {\n",
       "        vertical-align: top;\n",
       "    }\n",
       "\n",
       "    .dataframe thead tr th {\n",
       "        text-align: left;\n",
       "    }\n",
       "\n",
       "    .dataframe thead tr:last-of-type th {\n",
       "        text-align: right;\n",
       "    }\n",
       "</style>\n",
       "<table border=\"1\" class=\"dataframe\">\n",
       "  <thead>\n",
       "    <tr>\n",
       "      <th>hometype</th>\n",
       "      <th colspan=\"2\" halign=\"left\">Condo</th>\n",
       "      <th colspan=\"2\" halign=\"left\">Single Family Residential</th>\n",
       "      <th>Townhouse</th>\n",
       "    </tr>\n",
       "    <tr>\n",
       "      <th>parkingtype</th>\n",
       "      <th>0</th>\n",
       "      <th>1</th>\n",
       "      <th>0</th>\n",
       "      <th>1</th>\n",
       "      <th>1</th>\n",
       "    </tr>\n",
       "    <tr>\n",
       "      <th>zip</th>\n",
       "      <th></th>\n",
       "      <th></th>\n",
       "      <th></th>\n",
       "      <th></th>\n",
       "      <th></th>\n",
       "    </tr>\n",
       "  </thead>\n",
       "  <tbody>\n",
       "    <tr>\n",
       "      <th>80301</th>\n",
       "      <td>NaN</td>\n",
       "      <td>364.750</td>\n",
       "      <td>750.0</td>\n",
       "      <td>14050.638</td>\n",
       "      <td>784.0</td>\n",
       "    </tr>\n",
       "    <tr>\n",
       "      <th>80302</th>\n",
       "      <td>224.0</td>\n",
       "      <td>8550.150</td>\n",
       "      <td>6724.9</td>\n",
       "      <td>61056.500</td>\n",
       "      <td>999.0</td>\n",
       "    </tr>\n",
       "    <tr>\n",
       "      <th>80303</th>\n",
       "      <td>516.4</td>\n",
       "      <td>4886.499</td>\n",
       "      <td>1198.9</td>\n",
       "      <td>30560.900</td>\n",
       "      <td>419.0</td>\n",
       "    </tr>\n",
       "    <tr>\n",
       "      <th>80304</th>\n",
       "      <td>NaN</td>\n",
       "      <td>7221.969</td>\n",
       "      <td>5693.5</td>\n",
       "      <td>91866.350</td>\n",
       "      <td>660.0</td>\n",
       "    </tr>\n",
       "    <tr>\n",
       "      <th>80305</th>\n",
       "      <td>NaN</td>\n",
       "      <td>NaN</td>\n",
       "      <td>1588.9</td>\n",
       "      <td>17725.000</td>\n",
       "      <td>415.0</td>\n",
       "    </tr>\n",
       "  </tbody>\n",
       "</table>\n",
       "</div>"
      ],
      "text/plain": [
       "hometype     Condo           Single Family Residential            Townhouse\n",
       "parkingtype      0         1                         0          1         1\n",
       "zip                                                                        \n",
       "80301          NaN   364.750                     750.0  14050.638     784.0\n",
       "80302        224.0  8550.150                    6724.9  61056.500     999.0\n",
       "80303        516.4  4886.499                    1198.9  30560.900     419.0\n",
       "80304          NaN  7221.969                    5693.5  91866.350     660.0\n",
       "80305          NaN       NaN                    1588.9  17725.000     415.0"
      ]
     },
     "execution_count": 15,
     "metadata": {},
     "output_type": "execute_result"
    }
   ],
   "source": [
    "pd.pivot_table(data=df,values='listprice',index='zip',columns=['hometype','parkingtype'],\n",
    "              aggfunc='sum')"
   ]
  },
  {
   "cell_type": "code",
   "execution_count": null,
   "metadata": {},
   "outputs": [],
   "source": []
  },
  {
   "cell_type": "markdown",
   "metadata": {},
   "source": [
    "#### 6.Total of List Price by Zip and Home type and Parking Type\n",
    "\n",
    "We can also fill missing values using the fill_value parameter."
   ]
  },
  {
   "cell_type": "code",
   "execution_count": 16,
   "metadata": {},
   "outputs": [
    {
     "data": {
      "text/html": [
       "<div>\n",
       "<style scoped>\n",
       "    .dataframe tbody tr th:only-of-type {\n",
       "        vertical-align: middle;\n",
       "    }\n",
       "\n",
       "    .dataframe tbody tr th {\n",
       "        vertical-align: top;\n",
       "    }\n",
       "\n",
       "    .dataframe thead tr th {\n",
       "        text-align: left;\n",
       "    }\n",
       "\n",
       "    .dataframe thead tr:last-of-type th {\n",
       "        text-align: right;\n",
       "    }\n",
       "</style>\n",
       "<table border=\"1\" class=\"dataframe\">\n",
       "  <thead>\n",
       "    <tr>\n",
       "      <th>hometype</th>\n",
       "      <th colspan=\"2\" halign=\"left\">Condo</th>\n",
       "      <th colspan=\"2\" halign=\"left\">Single Family Residential</th>\n",
       "      <th>Townhouse</th>\n",
       "    </tr>\n",
       "    <tr>\n",
       "      <th>parkingtype</th>\n",
       "      <th>0</th>\n",
       "      <th>1</th>\n",
       "      <th>0</th>\n",
       "      <th>1</th>\n",
       "      <th>1</th>\n",
       "    </tr>\n",
       "    <tr>\n",
       "      <th>zip</th>\n",
       "      <th></th>\n",
       "      <th></th>\n",
       "      <th></th>\n",
       "      <th></th>\n",
       "      <th></th>\n",
       "    </tr>\n",
       "  </thead>\n",
       "  <tbody>\n",
       "    <tr>\n",
       "      <th>80301</th>\n",
       "      <td>0.0</td>\n",
       "      <td>364.750</td>\n",
       "      <td>750.0</td>\n",
       "      <td>14050.638</td>\n",
       "      <td>784</td>\n",
       "    </tr>\n",
       "    <tr>\n",
       "      <th>80302</th>\n",
       "      <td>224.0</td>\n",
       "      <td>8550.150</td>\n",
       "      <td>6724.9</td>\n",
       "      <td>61056.500</td>\n",
       "      <td>999</td>\n",
       "    </tr>\n",
       "    <tr>\n",
       "      <th>80303</th>\n",
       "      <td>516.4</td>\n",
       "      <td>4886.499</td>\n",
       "      <td>1198.9</td>\n",
       "      <td>30560.900</td>\n",
       "      <td>419</td>\n",
       "    </tr>\n",
       "    <tr>\n",
       "      <th>80304</th>\n",
       "      <td>0.0</td>\n",
       "      <td>7221.969</td>\n",
       "      <td>5693.5</td>\n",
       "      <td>91866.350</td>\n",
       "      <td>660</td>\n",
       "    </tr>\n",
       "    <tr>\n",
       "      <th>80305</th>\n",
       "      <td>0.0</td>\n",
       "      <td>0.000</td>\n",
       "      <td>1588.9</td>\n",
       "      <td>17725.000</td>\n",
       "      <td>415</td>\n",
       "    </tr>\n",
       "  </tbody>\n",
       "</table>\n",
       "</div>"
      ],
      "text/plain": [
       "hometype     Condo           Single Family Residential            Townhouse\n",
       "parkingtype      0         1                         0          1         1\n",
       "zip                                                                        \n",
       "80301          0.0   364.750                     750.0  14050.638       784\n",
       "80302        224.0  8550.150                    6724.9  61056.500       999\n",
       "80303        516.4  4886.499                    1198.9  30560.900       419\n",
       "80304          0.0  7221.969                    5693.5  91866.350       660\n",
       "80305          0.0     0.000                    1588.9  17725.000       415"
      ]
     },
     "execution_count": 16,
     "metadata": {},
     "output_type": "execute_result"
    }
   ],
   "source": [
    "pd.pivot_table(data=df,values='listprice',index='zip',columns=['hometype','parkingtype'],\n",
    "              aggfunc='sum',fill_value=0)"
   ]
  },
  {
   "cell_type": "code",
   "execution_count": null,
   "metadata": {},
   "outputs": [],
   "source": []
  },
  {
   "cell_type": "markdown",
   "metadata": {},
   "source": [
    "#### 7. Calculate average,total ,min and max listprice by hometype and parkingtype"
   ]
  },
  {
   "cell_type": "markdown",
   "metadata": {},
   "source": [
    "We can also calculate multiple types of aggregations for any given value column."
   ]
  },
  {
   "cell_type": "code",
   "execution_count": 17,
   "metadata": {},
   "outputs": [
    {
     "data": {
      "text/html": [
       "<div>\n",
       "<style scoped>\n",
       "    .dataframe tbody tr th:only-of-type {\n",
       "        vertical-align: middle;\n",
       "    }\n",
       "\n",
       "    .dataframe tbody tr th {\n",
       "        vertical-align: top;\n",
       "    }\n",
       "\n",
       "    .dataframe thead tr th {\n",
       "        text-align: left;\n",
       "    }\n",
       "\n",
       "    .dataframe thead tr:last-of-type th {\n",
       "        text-align: right;\n",
       "    }\n",
       "</style>\n",
       "<table border=\"1\" class=\"dataframe\">\n",
       "  <thead>\n",
       "    <tr>\n",
       "      <th></th>\n",
       "      <th colspan=\"2\" halign=\"left\">mean</th>\n",
       "      <th colspan=\"2\" halign=\"left\">sum</th>\n",
       "      <th colspan=\"2\" halign=\"left\">min</th>\n",
       "      <th colspan=\"2\" halign=\"left\">max</th>\n",
       "    </tr>\n",
       "    <tr>\n",
       "      <th>parkingtype</th>\n",
       "      <th>0</th>\n",
       "      <th>1</th>\n",
       "      <th>0</th>\n",
       "      <th>1</th>\n",
       "      <th>0</th>\n",
       "      <th>1</th>\n",
       "      <th>0</th>\n",
       "      <th>1</th>\n",
       "    </tr>\n",
       "    <tr>\n",
       "      <th>hometype</th>\n",
       "      <th></th>\n",
       "      <th></th>\n",
       "      <th></th>\n",
       "      <th></th>\n",
       "      <th></th>\n",
       "      <th></th>\n",
       "      <th></th>\n",
       "      <th></th>\n",
       "    </tr>\n",
       "  </thead>\n",
       "  <tbody>\n",
       "    <tr>\n",
       "      <th>Condo</th>\n",
       "      <td>185.100000</td>\n",
       "      <td>637.071758</td>\n",
       "      <td>740.4</td>\n",
       "      <td>21023.368</td>\n",
       "      <td>138.5</td>\n",
       "      <td>127.969</td>\n",
       "      <td>224.0</td>\n",
       "      <td>1950.0</td>\n",
       "    </tr>\n",
       "    <tr>\n",
       "      <th>Single Family Residential</th>\n",
       "      <td>886.455556</td>\n",
       "      <td>1362.401190</td>\n",
       "      <td>15956.2</td>\n",
       "      <td>215259.388</td>\n",
       "      <td>410.0</td>\n",
       "      <td>319.500</td>\n",
       "      <td>1849.0</td>\n",
       "      <td>7500.0</td>\n",
       "    </tr>\n",
       "    <tr>\n",
       "      <th>Townhouse</th>\n",
       "      <td>NaN</td>\n",
       "      <td>468.142857</td>\n",
       "      <td>NaN</td>\n",
       "      <td>3277.000</td>\n",
       "      <td>NaN</td>\n",
       "      <td>369.000</td>\n",
       "      <td>NaN</td>\n",
       "      <td>660.0</td>\n",
       "    </tr>\n",
       "  </tbody>\n",
       "</table>\n",
       "</div>"
      ],
      "text/plain": [
       "                                 mean                   sum              \\\n",
       "parkingtype                         0            1        0           1   \n",
       "hometype                                                                  \n",
       "Condo                      185.100000   637.071758    740.4   21023.368   \n",
       "Single Family Residential  886.455556  1362.401190  15956.2  215259.388   \n",
       "Townhouse                         NaN   468.142857      NaN    3277.000   \n",
       "\n",
       "                             min              max          \n",
       "parkingtype                    0        1       0       1  \n",
       "hometype                                                   \n",
       "Condo                      138.5  127.969   224.0  1950.0  \n",
       "Single Family Residential  410.0  319.500  1849.0  7500.0  \n",
       "Townhouse                    NaN  369.000     NaN   660.0  "
      ]
     },
     "execution_count": 17,
     "metadata": {},
     "output_type": "execute_result"
    }
   ],
   "source": [
    "pd.pivot_table(data=df,index='hometype',columns='parkingtype',\n",
    "               values='listprice',\n",
    "               aggfunc=['mean','sum','min','max'])"
   ]
  },
  {
   "cell_type": "code",
   "execution_count": null,
   "metadata": {},
   "outputs": [],
   "source": []
  },
  {
   "cell_type": "markdown",
   "metadata": {},
   "source": [
    "#### 8. Calculate average listprice and min and max values for sqft by hometype"
   ]
  },
  {
   "cell_type": "code",
   "execution_count": 23,
   "metadata": {},
   "outputs": [
    {
     "data": {
      "text/html": [
       "<div>\n",
       "<style scoped>\n",
       "    .dataframe tbody tr th:only-of-type {\n",
       "        vertical-align: middle;\n",
       "    }\n",
       "\n",
       "    .dataframe tbody tr th {\n",
       "        vertical-align: top;\n",
       "    }\n",
       "\n",
       "    .dataframe thead tr th {\n",
       "        text-align: left;\n",
       "    }\n",
       "\n",
       "    .dataframe thead tr:last-of-type th {\n",
       "        text-align: right;\n",
       "    }\n",
       "</style>\n",
       "<table border=\"1\" class=\"dataframe\">\n",
       "  <thead>\n",
       "    <tr>\n",
       "      <th></th>\n",
       "      <th>listprice</th>\n",
       "      <th colspan=\"2\" halign=\"left\">sqft</th>\n",
       "    </tr>\n",
       "    <tr>\n",
       "      <th></th>\n",
       "      <th>mean</th>\n",
       "      <th>max</th>\n",
       "      <th>min</th>\n",
       "    </tr>\n",
       "    <tr>\n",
       "      <th>hometype</th>\n",
       "      <th></th>\n",
       "      <th></th>\n",
       "      <th></th>\n",
       "    </tr>\n",
       "  </thead>\n",
       "  <tbody>\n",
       "    <tr>\n",
       "      <th>Condo</th>\n",
       "      <td>588.209946</td>\n",
       "      <td>5888</td>\n",
       "      <td>466</td>\n",
       "    </tr>\n",
       "    <tr>\n",
       "      <th>Single Family Residential</th>\n",
       "      <td>1313.724932</td>\n",
       "      <td>10466</td>\n",
       "      <td>1056</td>\n",
       "    </tr>\n",
       "    <tr>\n",
       "      <th>Townhouse</th>\n",
       "      <td>468.142857</td>\n",
       "      <td>2193</td>\n",
       "      <td>1064</td>\n",
       "    </tr>\n",
       "  </tbody>\n",
       "</table>\n",
       "</div>"
      ],
      "text/plain": [
       "                             listprice   sqft      \n",
       "                                  mean    max   min\n",
       "hometype                                           \n",
       "Condo                       588.209946   5888   466\n",
       "Single Family Residential  1313.724932  10466  1056\n",
       "Townhouse                   468.142857   2193  1064"
      ]
     },
     "execution_count": 23,
     "metadata": {},
     "output_type": "execute_result"
    }
   ],
   "source": [
    "pd.pivot_table(data=df,values=['listprice','sqft'],index='hometype',\n",
    "              aggfunc={'listprice':'mean',\n",
    "                      'sqft':['min','max']})"
   ]
  },
  {
   "cell_type": "code",
   "execution_count": null,
   "metadata": {},
   "outputs": [],
   "source": []
  },
  {
   "cell_type": "code",
   "execution_count": null,
   "metadata": {},
   "outputs": [],
   "source": [
    "def title(t.lo):\n",
    "    for ''"
   ]
  },
  {
   "cell_type": "code",
   "execution_count": 36,
   "metadata": {},
   "outputs": [
    {
     "data": {
      "text/plain": [
       "0      single family residential\n",
       "1      single family residential\n",
       "2      single family residential\n",
       "3      single family residential\n",
       "4      single family residential\n",
       "5      single family residential\n",
       "6      single family residential\n",
       "7      single family residential\n",
       "8      single family residential\n",
       "9      single family residential\n",
       "10     single family residential\n",
       "11     single family residential\n",
       "12     single family residential\n",
       "13     single family residential\n",
       "14     single family residential\n",
       "15     single family residential\n",
       "16     single family residential\n",
       "17     single family residential\n",
       "18                     townhouse\n",
       "19     single family residential\n",
       "20     single family residential\n",
       "21     single family residential\n",
       "22     single family residential\n",
       "23     single family residential\n",
       "24                         condo\n",
       "25     single family residential\n",
       "26     single family residential\n",
       "27     single family residential\n",
       "28     single family residential\n",
       "29                         condo\n",
       "                 ...            \n",
       "190    single family residential\n",
       "191    single family residential\n",
       "192    single family residential\n",
       "193    single family residential\n",
       "194    single family residential\n",
       "195    single family residential\n",
       "196    single family residential\n",
       "197    single family residential\n",
       "198    single family residential\n",
       "199    single family residential\n",
       "200    single family residential\n",
       "201    single family residential\n",
       "202    single family residential\n",
       "203    single family residential\n",
       "204    single family residential\n",
       "205    single family residential\n",
       "206    single family residential\n",
       "207    single family residential\n",
       "208    single family residential\n",
       "209    single family residential\n",
       "210                        condo\n",
       "211    single family residential\n",
       "212    single family residential\n",
       "213    single family residential\n",
       "214                        condo\n",
       "215    single family residential\n",
       "216    single family residential\n",
       "217    single family residential\n",
       "218                        condo\n",
       "219    single family residential\n",
       "Name: hometype, Length: 220, dtype: object"
      ]
     },
     "execution_count": 36,
     "metadata": {},
     "output_type": "execute_result"
    }
   ],
   "source": [
    "df['hometype'].apply(lambda x :x.lower())"
   ]
  },
  {
   "cell_type": "code",
   "execution_count": null,
   "metadata": {},
   "outputs": [],
   "source": []
  }
 ],
 "metadata": {
  "kernelspec": {
   "display_name": "Python 3",
   "language": "python",
   "name": "python3"
  },
  "language_info": {
   "codemirror_mode": {
    "name": "ipython",
    "version": 3
   },
   "file_extension": ".py",
   "mimetype": "text/x-python",
   "name": "python",
   "nbconvert_exporter": "python",
   "pygments_lexer": "ipython3",
   "version": "3.7.1"
  }
 },
 "nbformat": 4,
 "nbformat_minor": 2
}
